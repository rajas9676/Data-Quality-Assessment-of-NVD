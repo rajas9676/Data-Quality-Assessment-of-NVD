{
 "cells": [
  {
   "cell_type": "code",
   "execution_count": 1,
   "id": "ea4552ee-eaf0-4844-9e99-225e167a0204",
   "metadata": {},
   "outputs": [],
   "source": [
    "import pymysql\n",
    "import pandas as pd\n",
    "import seaborn as sns\n",
    "import numpy as np\n",
    "import matplotlib.pyplot as plt\n",
    "import scipy.optimize as opt\n",
    "import plotly.graph_objects as go\n",
    "import plotly.offline as pyo\n",
    "from plotly.subplots import make_subplots\n",
    "from datetime import timedelta\n",
    "import scipy.stats as sps"
   ]
  },
  {
   "cell_type": "code",
   "execution_count": 2,
   "id": "c0519f95-d060-4196-a3ec-a1626a14119d",
   "metadata": {},
   "outputs": [],
   "source": [
    "#pip install holidays\n",
    "import holidays"
   ]
  },
  {
   "cell_type": "code",
   "execution_count": 3,
   "id": "2fa92c9a-ba6d-45a0-b8a7-1a098e547c25",
   "metadata": {},
   "outputs": [],
   "source": [
    "%matplotlib inline\n",
    "import warnings\n",
    "warnings.filterwarnings('ignore')"
   ]
  },
  {
   "cell_type": "code",
   "execution_count": 4,
   "id": "00351068-8462-4b93-bf1e-b813d690ccd8",
   "metadata": {},
   "outputs": [],
   "source": [
    "conn = pymysql.connect(host='localhost', port=int(3306), user='root', passwd='spartandb', db='spartan')\n",
    "cve = pd.read_sql_query('SELECT * FROM bastazo_common_vulnerabilityfromnvd', conn)\n",
    "cpe = pd.read_sql_query('SELECT * FROM bastazo_common_cpe', conn)"
   ]
  },
  {
   "cell_type": "markdown",
   "id": "401d04ae-6130-4044-bf7a-23777aa3f493",
   "metadata": {},
   "source": [
    "## When are vulnerabilities most frequently disclosed?"
   ]
  },
  {
   "cell_type": "code",
   "execution_count": 35,
   "id": "0d4320ba-f607-4a25-b3e1-822a2dd06e7a",
   "metadata": {},
   "outputs": [
    {
     "data": {
      "text/html": [
       "<div>\n",
       "<style scoped>\n",
       "    .dataframe tbody tr th:only-of-type {\n",
       "        vertical-align: middle;\n",
       "    }\n",
       "\n",
       "    .dataframe tbody tr th {\n",
       "        vertical-align: top;\n",
       "    }\n",
       "\n",
       "    .dataframe thead th {\n",
       "        text-align: right;\n",
       "    }\n",
       "</style>\n",
       "<table border=\"1\" class=\"dataframe\">\n",
       "  <thead>\n",
       "    <tr style=\"text-align: right;\">\n",
       "      <th></th>\n",
       "      <th>published_date</th>\n",
       "      <th>day</th>\n",
       "      <th>date</th>\n",
       "      <th>year</th>\n",
       "    </tr>\n",
       "  </thead>\n",
       "  <tbody>\n",
       "    <tr>\n",
       "      <th>0</th>\n",
       "      <td>2019-11-21 15:15:00</td>\n",
       "      <td>Thursday</td>\n",
       "      <td>2019-11-21</td>\n",
       "      <td>2019</td>\n",
       "    </tr>\n",
       "    <tr>\n",
       "      <th>1</th>\n",
       "      <td>2019-11-21 15:15:00</td>\n",
       "      <td>Thursday</td>\n",
       "      <td>2019-11-21</td>\n",
       "      <td>2019</td>\n",
       "    </tr>\n",
       "    <tr>\n",
       "      <th>2</th>\n",
       "      <td>2019-11-21 15:15:00</td>\n",
       "      <td>Thursday</td>\n",
       "      <td>2019-11-21</td>\n",
       "      <td>2019</td>\n",
       "    </tr>\n",
       "    <tr>\n",
       "      <th>3</th>\n",
       "      <td>2019-11-20 21:15:00</td>\n",
       "      <td>Wednesday</td>\n",
       "      <td>2019-11-20</td>\n",
       "      <td>2019</td>\n",
       "    </tr>\n",
       "    <tr>\n",
       "      <th>4</th>\n",
       "      <td>2019-11-20 20:15:00</td>\n",
       "      <td>Wednesday</td>\n",
       "      <td>2019-11-20</td>\n",
       "      <td>2019</td>\n",
       "    </tr>\n",
       "  </tbody>\n",
       "</table>\n",
       "</div>"
      ],
      "text/plain": [
       "       published_date        day        date  year\n",
       "0 2019-11-21 15:15:00   Thursday  2019-11-21  2019\n",
       "1 2019-11-21 15:15:00   Thursday  2019-11-21  2019\n",
       "2 2019-11-21 15:15:00   Thursday  2019-11-21  2019\n",
       "3 2019-11-20 21:15:00  Wednesday  2019-11-20  2019\n",
       "4 2019-11-20 20:15:00  Wednesday  2019-11-20  2019"
      ]
     },
     "execution_count": 35,
     "metadata": {},
     "output_type": "execute_result"
    }
   ],
   "source": [
    "data = cve[['published_date']]\n",
    "data['day'] = data['published_date'].dt.day_name()\n",
    "data['date'] = data['published_date'].dt.date\n",
    "data['year'] = data['published_date'].dt.year\n",
    "data.head()"
   ]
  },
  {
   "cell_type": "code",
   "execution_count": 36,
   "id": "47023a0d-efff-447a-9e63-058ce8a30059",
   "metadata": {},
   "outputs": [
    {
     "data": {
      "text/html": [
       "<div>\n",
       "<style scoped>\n",
       "    .dataframe tbody tr th:only-of-type {\n",
       "        vertical-align: middle;\n",
       "    }\n",
       "\n",
       "    .dataframe tbody tr th {\n",
       "        vertical-align: top;\n",
       "    }\n",
       "\n",
       "    .dataframe thead th {\n",
       "        text-align: right;\n",
       "    }\n",
       "</style>\n",
       "<table border=\"1\" class=\"dataframe\">\n",
       "  <thead>\n",
       "    <tr style=\"text-align: right;\">\n",
       "      <th></th>\n",
       "      <th>day</th>\n",
       "      <th>count</th>\n",
       "    </tr>\n",
       "  </thead>\n",
       "  <tbody>\n",
       "    <tr>\n",
       "      <th>0</th>\n",
       "      <td>Monday</td>\n",
       "      <td>14390</td>\n",
       "    </tr>\n",
       "    <tr>\n",
       "      <th>1</th>\n",
       "      <td>Tuesday</td>\n",
       "      <td>16387</td>\n",
       "    </tr>\n",
       "    <tr>\n",
       "      <th>2</th>\n",
       "      <td>Wednesday</td>\n",
       "      <td>19157</td>\n",
       "    </tr>\n",
       "    <tr>\n",
       "      <th>3</th>\n",
       "      <td>Thursday</td>\n",
       "      <td>16622</td>\n",
       "    </tr>\n",
       "    <tr>\n",
       "      <th>4</th>\n",
       "      <td>Friday</td>\n",
       "      <td>15631</td>\n",
       "    </tr>\n",
       "    <tr>\n",
       "      <th>5</th>\n",
       "      <td>Saturday</td>\n",
       "      <td>3638</td>\n",
       "    </tr>\n",
       "    <tr>\n",
       "      <th>6</th>\n",
       "      <td>Sunday</td>\n",
       "      <td>3835</td>\n",
       "    </tr>\n",
       "  </tbody>\n",
       "</table>\n",
       "</div>"
      ],
      "text/plain": [
       "         day  count\n",
       "0     Monday  14390\n",
       "1    Tuesday  16387\n",
       "2  Wednesday  19157\n",
       "3   Thursday  16622\n",
       "4     Friday  15631\n",
       "5   Saturday   3638\n",
       "6     Sunday   3835"
      ]
     },
     "execution_count": 36,
     "metadata": {},
     "output_type": "execute_result"
    }
   ],
   "source": [
    "from pandas.api.types import CategoricalDtype\n",
    "days = data[['day', 'date']]\n",
    "cats = ['Monday', 'Tuesday', 'Wednesday', 'Thursday', 'Friday', 'Saturday', 'Sunday']\n",
    "cat_type = CategoricalDtype(categories=cats, ordered=True)\n",
    "results = days.groupby(['day']).count().reindex(cats)\n",
    "freq_day = results.rename(columns={'date':'count'}).reset_index()\n",
    "freq_day"
   ]
  },
  {
   "cell_type": "code",
   "execution_count": null,
   "id": "b6612083-0671-461b-b099-8ac127637821",
   "metadata": {},
   "outputs": [],
   "source": [
    "plt.figure(figsize=(10,5))\n",
    "sns.barplot(x='day', y='count', data=freq_day)"
   ]
  },
  {
   "cell_type": "code",
   "execution_count": null,
   "id": "72535008-018a-45df-9fe9-7dfcf36af8aa",
   "metadata": {},
   "outputs": [],
   "source": [
    "us_holidays = holidays.US()\n",
    "data2 = data[['date', 'year']] \n",
    "results2 = data2.groupby(['date']).count().sort_values(by=['year'], ascending=False)\n",
    "results2.rename(columns={'year':'count'}).reset_index()\n",
    "top10 = results2[0:10].reset_index()\n",
    "top10.rename(columns={'year':'count'}, inplace=True)\n",
    "top10['day'] = pd.to_datetime(top10['date']).dt.day_name()\n",
    "top10"
   ]
  },
  {
   "cell_type": "markdown",
   "id": "62029064-4b26-42e5-b489-5fa1c819f6c1",
   "metadata": {},
   "source": [
    "## Exploit types and CWE clustering"
   ]
  },
  {
   "cell_type": "code",
   "execution_count": 7,
   "id": "25bbeb2e-ee60-4439-b01d-9e965cc80703",
   "metadata": {},
   "outputs": [],
   "source": [
    "import numpy as np\n",
    "import pandas as pd\n",
    "import plotly.graph_objects as go\n",
    "from datetime import timedelta\n",
    "from sklearn.cluster import KMeans\n",
    "from sklearn.decomposition import KernelPCA\n",
    "from sklearn.decomposition import PCA\n",
    "import plotly.figure_factory as ff"
   ]
  },
  {
   "cell_type": "code",
   "execution_count": 8,
   "id": "4725e036-ede4-429f-b45d-ae273486a532",
   "metadata": {},
   "outputs": [],
   "source": [
    "cve = pd.read_csv('cve.csv', header=0, index_col=0)\n",
    "vendors = pd.read_csv('vendors/vendors.csv', header=0, index_col=0)\n",
    "products = pd.read_csv('products/products.csv', header=0, index_col=0)\n",
    "vendor_product = pd.read_csv('vendor_product/vendor_product.csv', header=0, index_col=0)\n",
    "cve.pub_date = pd.to_datetime(cve.pub_date)"
   ]
  },
  {
   "cell_type": "code",
   "execution_count": 9,
   "id": "d3072a1b-6139-4875-9e6e-d6bf16f9d983",
   "metadata": {},
   "outputs": [],
   "source": [
    "K = 500\n",
    "M = 100\n",
    "L = 10\n",
    "thresh = .01\n",
    "cwes = pd.get_dummies(cve.cwe_name)\n",
    "top_K = products.vulnerable_product.value_counts()[:K]\n",
    "counts = top_K.values\n",
    "X = products[products.vulnerable_product.isin(top_K.index)].join(cwes).groupby('vulnerable_product').sum()\n",
    "# Normalize\n",
    "X = X.divide(X.sum(axis=1), axis=0)\n",
    "# Sparsify (to prevent big products from being clustered together by virtue of being big)\n",
    "below_threshold = X < thresh\n",
    "X[below_threshold] = 0\n",
    "Z = KernelPCA(n_components=2, kernel=\"cosine\").fit_transform(X)"
   ]
  },
  {
   "cell_type": "code",
   "execution_count": 10,
   "id": "0495c32c-4c48-4be2-9986-2cf298ad0db3",
   "metadata": {},
   "outputs": [
    {
     "data": {
      "text/html": [
       "<iframe\n",
       "    scrolling=\"no\"\n",
       "    width=\"100%\"\n",
       "    height=\"820\"\n",
       "    src=\"iframe_figures/figure_10.html\"\n",
       "    frameborder=\"0\"\n",
       "    allowfullscreen\n",
       "></iframe>\n"
      ]
     },
     "metadata": {},
     "output_type": "display_data"
    }
   ],
   "source": [
    "fig = go.Figure()\n",
    "fig.add_trace(go.Scatter(\n",
    "        x=Z[:,0][L:M],\n",
    "        y=Z[:,1][L:M],\n",
    "        mode=\"markers\",\n",
    "        text=top_K.index[L:M],\n",
    "        marker=dict(\n",
    "            size=2 * np.sqrt(counts[L:M]),\n",
    "            color='#bbbbbb',\n",
    "            showscale=False)))\n",
    "fig.add_trace(go.Scatter(\n",
    "        x=Z[:,0][:L],\n",
    "        y=Z[:,1][:L],\n",
    "        mode=\"markers+text\",\n",
    "        text=np.vectorize(lambda x: \" \".join(map(lambda x: x.title() if len(x) > 2 else x.upper(), x.split(\"_\"))))(top_K.index[:L]),\n",
    "        textposition = \"top center\",\n",
    "        marker=dict(\n",
    "            size=2 * np.sqrt(counts[:L]),\n",
    "            color='#93a1a1',\n",
    "            showscale=False ) ))\n",
    "fig.update_layout(height=800,showlegend=False,title=dict(text=\"Plotting products using exploit types\",xref=\"paper\",x=0., y=1.),\n",
    "    font=dict(family=\"Arial\",size=14,color=\"#586e75\"),\n",
    "    xaxis=dict(showgrid=False,showticklabels=False),\n",
    "    yaxis=dict(showgrid=False,showticklabels=False),\n",
    "    annotations=[dict(xref='paper',yref='paper',x=0., y=1.1,showarrow=False,\n",
    "            text =\"All products are projected into two dimensions using KernelPCA with cosine similarity as the chosen kernel.<br>\" + \n",
    "            \"Products are sized proportionally to the how many CVE entries affect a given product. The top 10 products<br>are labelled, the top 100 are projected.\",\n",
    "            valign='top',\n",
    "            align='left'),],\n",
    "    paper_bgcolor='rgba(0,0,0,0)',\n",
    "    plot_bgcolor='rgba(0,0,0,0)',\n",
    "    bargap=0\n",
    ")\n",
    "fig.show(renderer=\"iframe\")"
   ]
  },
  {
   "cell_type": "code",
   "execution_count": 11,
   "id": "31ff9ca0-412e-4d63-837b-a82ab25db1a5",
   "metadata": {},
   "outputs": [
    {
     "data": {
      "text/html": [
       "<iframe\n",
       "    scrolling=\"no\"\n",
       "    width=\"100%\"\n",
       "    height=\"820\"\n",
       "    src=\"iframe_figures/figure_11.html\"\n",
       "    frameborder=\"0\"\n",
       "    allowfullscreen\n",
       "></iframe>\n"
      ]
     },
     "metadata": {},
     "output_type": "display_data"
    }
   ],
   "source": [
    "fig = go.Figure()\n",
    "solarized_colors = ['#dc322f', '#6c71c4', '#268bd2', '#2aa198', '#073642']\n",
    "V = vendors.vendor.value_counts()[5:0:-1].index\n",
    "top_K_vp = top_K.reset_index().join(vendor_product.set_index('product'), on='index')\n",
    "ndxs = top_K_vp[~top_K_vp.vendor.isin(V)].index\n",
    "fig.add_trace(\n",
    "    go.Scatter(\n",
    "        x=Z[:,0][ndxs],\n",
    "        y=Z[:,1][ndxs],\n",
    "        mode=\"markers\",\n",
    "        name='others',\n",
    "        text=np.vectorize(lambda x: \" \".join(map(lambda x: x.title() if len(x) > 2 else x.upper(), x.split(\"_\"))))(top_K.index[ndxs]),\n",
    "        marker=dict(\n",
    "            size=2 * np.sqrt(counts[ndxs]),\n",
    "            color='#dddddd',\n",
    "            showscale=False,)))\n",
    "for ndx, vendor in enumerate(V):\n",
    "    ndxs = top_K_vp[top_K_vp.vendor == vendor].index\n",
    "    fig.add_trace(\n",
    "        go.Scatter(\n",
    "            x=Z[:,0][ndxs],\n",
    "            y=Z[:,1][ndxs],\n",
    "            mode=\"markers\",\n",
    "            name=vendor,\n",
    "            text=np.vectorize(lambda x: \" \".join(map(lambda x: x.title() if len(x) > 2 else x.upper(), x.split(\"_\"))))(top_K.index[ndxs]),\n",
    "            marker=dict(\n",
    "                size=2 * np.sqrt(counts[ndxs]),\n",
    "                color=solarized_colors[ndx],\n",
    "                showscale=False,)))\n",
    "fig.update_layout(legend=dict(x=0., y=1.),height=800,title=dict(text=\"Visualizing vendors\",xref=\"paper\",x=0., y=1.),\n",
    "    font=dict(family=\"Arial\",size=14,color=\"#586e75\"),\n",
    "    xaxis=dict(showgrid=False,showticklabels=False),\n",
    "    yaxis=dict(showgrid=False,showticklabels=False),\n",
    "    annotations=[dict(xref='paper',yref='paper',x=0., y=1.1,showarrow=False,\n",
    "            text =\"Vendors are one inherent clustering already present in the data. Here's how KernelPCA with<br>cosine similarity distributes products from the top 5 vendors.\",\n",
    "            valign='top',\n",
    "            align='left'),],\n",
    "    paper_bgcolor='rgba(0,0,0,0)',\n",
    "    plot_bgcolor='rgba(0,0,0,0)')\n",
    "    \n",
    "fig.show(renderer='iframe')"
   ]
  },
  {
   "cell_type": "markdown",
   "id": "6e501e2b-9bd2-4cef-8a59-154871d0bac7",
   "metadata": {},
   "source": [
    "## Vulnerability to source analysis"
   ]
  },
  {
   "cell_type": "code",
   "execution_count": 12,
   "id": "4a883f36-12ec-4c5b-b2af-17b67654b865",
   "metadata": {},
   "outputs": [
    {
     "data": {
      "text/html": [
       "<div>\n",
       "<style scoped>\n",
       "    .dataframe tbody tr th:only-of-type {\n",
       "        vertical-align: middle;\n",
       "    }\n",
       "\n",
       "    .dataframe tbody tr th {\n",
       "        vertical-align: top;\n",
       "    }\n",
       "\n",
       "    .dataframe thead th {\n",
       "        text-align: right;\n",
       "    }\n",
       "</style>\n",
       "<table border=\"1\" class=\"dataframe\">\n",
       "  <thead>\n",
       "    <tr style=\"text-align: right;\">\n",
       "      <th></th>\n",
       "      <th>source</th>\n",
       "      <th>frequency</th>\n",
       "      <th>percent</th>\n",
       "    </tr>\n",
       "  </thead>\n",
       "  <tbody>\n",
       "    <tr>\n",
       "      <th>68</th>\n",
       "      <td>MITRE</td>\n",
       "      <td>26170</td>\n",
       "      <td>43.616667</td>\n",
       "    </tr>\n",
       "    <tr>\n",
       "      <th>72</th>\n",
       "      <td>Microsoft Corporation</td>\n",
       "      <td>3500</td>\n",
       "      <td>5.833333</td>\n",
       "    </tr>\n",
       "    <tr>\n",
       "      <th>87</th>\n",
       "      <td>Oracle</td>\n",
       "      <td>2954</td>\n",
       "      <td>4.923333</td>\n",
       "    </tr>\n",
       "    <tr>\n",
       "      <th>54</th>\n",
       "      <td>IBM Corporation</td>\n",
       "      <td>2054</td>\n",
       "      <td>3.423333</td>\n",
       "    </tr>\n",
       "    <tr>\n",
       "      <th>21</th>\n",
       "      <td>Cisco Systems, Inc.</td>\n",
       "      <td>2023</td>\n",
       "      <td>3.371667</td>\n",
       "    </tr>\n",
       "    <tr>\n",
       "      <th>5</th>\n",
       "      <td>Android (associated with Google Inc. or Open H...</td>\n",
       "      <td>1766</td>\n",
       "      <td>2.943333</td>\n",
       "    </tr>\n",
       "    <tr>\n",
       "      <th>1</th>\n",
       "      <td>Adobe Systems Incorporated</td>\n",
       "      <td>1600</td>\n",
       "      <td>2.666667</td>\n",
       "    </tr>\n",
       "    <tr>\n",
       "      <th>7</th>\n",
       "      <td>Apple Inc.</td>\n",
       "      <td>1423</td>\n",
       "      <td>2.371667</td>\n",
       "    </tr>\n",
       "    <tr>\n",
       "      <th>93</th>\n",
       "      <td>Qualcomm, Inc.</td>\n",
       "      <td>1363</td>\n",
       "      <td>2.271667</td>\n",
       "    </tr>\n",
       "    <tr>\n",
       "      <th>95</th>\n",
       "      <td>Red Hat, Inc.</td>\n",
       "      <td>1354</td>\n",
       "      <td>2.256667</td>\n",
       "    </tr>\n",
       "  </tbody>\n",
       "</table>\n",
       "</div>"
      ],
      "text/plain": [
       "                                               source  frequency    percent\n",
       "68                                              MITRE      26170  43.616667\n",
       "72                              Microsoft Corporation       3500   5.833333\n",
       "87                                             Oracle       2954   4.923333\n",
       "54                                    IBM Corporation       2054   3.423333\n",
       "21                                Cisco Systems, Inc.       2023   3.371667\n",
       "5   Android (associated with Google Inc. or Open H...       1766   2.943333\n",
       "1                          Adobe Systems Incorporated       1600   2.666667\n",
       "7                                          Apple Inc.       1423   2.371667\n",
       "93                                     Qualcomm, Inc.       1363   2.271667\n",
       "95                                      Red Hat, Inc.       1354   2.256667"
      ]
     },
     "execution_count": 12,
     "metadata": {},
     "output_type": "execute_result"
    }
   ],
   "source": [
    "cve2src = pd.read_csv('cve2source.csv')\n",
    "stats = cve2src.groupby('source').agg('count').pipe(pd.DataFrame).rename(columns={'cve':'frequency'})\n",
    "stats['percent'] = (stats['frequency']/sum(stats['frequency'])*100)\n",
    "stats= stats.reset_index()\n",
    "stats.sort_values(by=['percent'], ascending=False, inplace=True)\n",
    "stats.head(10)"
   ]
  },
  {
   "cell_type": "code",
   "execution_count": 13,
   "id": "992eabee-0da6-4b84-9237-14f3fe79fae0",
   "metadata": {},
   "outputs": [
    {
     "data": {
      "image/png": "[encoded data removed]",
      "text/plain": [
       "<Figure size 1440x504 with 1 Axes>"
      ]
     },
     "metadata": {
      "needs_background": "light"
     },
     "output_type": "display_data"
    }
   ],
   "source": [
    "plt.figure(figsize=(20, 7))\n",
    "chart = sns.barplot(data=stats[0:10], x='source', y='percent')\n",
    "chart.set_xticklabels(chart.get_xticklabels(), rotation=45, horizontalalignment='right', fontsize=15)\n",
    "None"
   ]
  },
  {
   "cell_type": "markdown",
   "id": "50009ba0-fec6-4ce2-bdc4-735f5fb7953f",
   "metadata": {},
   "source": [
    "## CVE growth rate based on Publication Date"
   ]
  },
  {
   "cell_type": "code",
   "execution_count": 14,
   "id": "31335945-62c1-4a01-9745-61d4d011b4a1",
   "metadata": {},
   "outputs": [
    {
     "data": {
      "text/html": [
       "<div>\n",
       "<style scoped>\n",
       "    .dataframe tbody tr th:only-of-type {\n",
       "        vertical-align: middle;\n",
       "    }\n",
       "\n",
       "    .dataframe tbody tr th {\n",
       "        vertical-align: top;\n",
       "    }\n",
       "\n",
       "    .dataframe thead th {\n",
       "        text-align: right;\n",
       "    }\n",
       "</style>\n",
       "<table border=\"1\" class=\"dataframe\">\n",
       "  <thead>\n",
       "    <tr style=\"text-align: right;\">\n",
       "      <th></th>\n",
       "      <th>cve_id</th>\n",
       "      <th>published_date</th>\n",
       "    </tr>\n",
       "  </thead>\n",
       "  <tbody>\n",
       "    <tr>\n",
       "      <th>0</th>\n",
       "      <td>CVE-2019-16548</td>\n",
       "      <td>2019-11-21</td>\n",
       "    </tr>\n",
       "    <tr>\n",
       "      <th>1</th>\n",
       "      <td>CVE-2019-16547</td>\n",
       "      <td>2019-11-21</td>\n",
       "    </tr>\n",
       "    <tr>\n",
       "      <th>2</th>\n",
       "      <td>CVE-2019-16546</td>\n",
       "      <td>2019-11-21</td>\n",
       "    </tr>\n",
       "    <tr>\n",
       "      <th>3</th>\n",
       "      <td>CVE-2013-2092</td>\n",
       "      <td>2019-11-20</td>\n",
       "    </tr>\n",
       "    <tr>\n",
       "      <th>4</th>\n",
       "      <td>CVE-2013-2091</td>\n",
       "      <td>2019-11-20</td>\n",
       "    </tr>\n",
       "  </tbody>\n",
       "</table>\n",
       "</div>"
      ],
      "text/plain": [
       "           cve_id published_date\n",
       "0  CVE-2019-16548     2019-11-21\n",
       "1  CVE-2019-16547     2019-11-21\n",
       "2  CVE-2019-16546     2019-11-21\n",
       "3   CVE-2013-2092     2019-11-20\n",
       "4   CVE-2013-2091     2019-11-20"
      ]
     },
     "execution_count": 14,
     "metadata": {},
     "output_type": "execute_result"
    }
   ],
   "source": [
    "cve_loc = pd.read_csv('cve.csv')\n",
    "cve_loc.pub_date = pd.to_datetime(cve_loc.pub_date)\n",
    "cve_loc.rename(columns={'Unnamed: 0':'cve_id', 'pub_date':'published_date', 'cvss':'cvss_base_score'}, inplace=True)\n",
    "cve_loc.published_date = pd.to_datetime(cve_loc.published_date)\n",
    "data_loc = cve_loc[['cve_id', 'published_date']]\n",
    "data_loc['published_date'] = pd.to_datetime(data_loc['published_date'].dt.date)\n",
    "data_loc.head()"
   ]
  },
  {
   "cell_type": "code",
   "execution_count": 39,
   "id": "a7f6351c-69ba-4a9b-8790-f4fc38a2dcb9",
   "metadata": {},
   "outputs": [],
   "source": [
    "data = cve[['cve_id', 'published_date']]"
   ]
  },
  {
   "cell_type": "code",
   "execution_count": 40,
   "id": "60c1faad-ecff-4786-8f34-b82f8cabebee",
   "metadata": {},
   "outputs": [
    {
     "data": {
      "text/html": [
       "<div>\n",
       "<style scoped>\n",
       "    .dataframe tbody tr th:only-of-type {\n",
       "        vertical-align: middle;\n",
       "    }\n",
       "\n",
       "    .dataframe tbody tr th {\n",
       "        vertical-align: top;\n",
       "    }\n",
       "\n",
       "    .dataframe thead th {\n",
       "        text-align: right;\n",
       "    }\n",
       "</style>\n",
       "<table border=\"1\" class=\"dataframe\">\n",
       "  <thead>\n",
       "    <tr style=\"text-align: right;\">\n",
       "      <th></th>\n",
       "      <th>cve_id</th>\n",
       "      <th>published_date</th>\n",
       "    </tr>\n",
       "  </thead>\n",
       "  <tbody>\n",
       "    <tr>\n",
       "      <th>0</th>\n",
       "      <td>CVE-2019-16548</td>\n",
       "      <td>2019-11-21 15:15:00</td>\n",
       "    </tr>\n",
       "    <tr>\n",
       "      <th>1</th>\n",
       "      <td>CVE-2019-16547</td>\n",
       "      <td>2019-11-21 15:15:00</td>\n",
       "    </tr>\n",
       "    <tr>\n",
       "      <th>2</th>\n",
       "      <td>CVE-2019-16546</td>\n",
       "      <td>2019-11-21 15:15:00</td>\n",
       "    </tr>\n",
       "    <tr>\n",
       "      <th>3</th>\n",
       "      <td>CVE-2013-2092</td>\n",
       "      <td>2019-11-20 21:15:00</td>\n",
       "    </tr>\n",
       "    <tr>\n",
       "      <th>4</th>\n",
       "      <td>CVE-2013-2091</td>\n",
       "      <td>2019-11-20 20:15:00</td>\n",
       "    </tr>\n",
       "  </tbody>\n",
       "</table>\n",
       "</div>"
      ],
      "text/plain": [
       "           cve_id      published_date\n",
       "0  CVE-2019-16548 2019-11-21 15:15:00\n",
       "1  CVE-2019-16547 2019-11-21 15:15:00\n",
       "2  CVE-2019-16546 2019-11-21 15:15:00\n",
       "3   CVE-2013-2092 2019-11-20 21:15:00\n",
       "4   CVE-2013-2091 2019-11-20 20:15:00"
      ]
     },
     "execution_count": 40,
     "metadata": {},
     "output_type": "execute_result"
    }
   ],
   "source": [
    "data.head()"
   ]
  },
  {
   "cell_type": "code",
   "execution_count": 41,
   "id": "dba570c1-977d-4224-963a-424ce6e94693",
   "metadata": {},
   "outputs": [],
   "source": [
    "data_final = pd.concat([data, data_loc]).drop_duplicates().reset_index(drop=True)\n",
    "data_final.published_date = pd.to_datetime(data_final.published_date)"
   ]
  },
  {
   "cell_type": "markdown",
   "id": "d3dab755-5f53-4abe-8388-71c86d7e2507",
   "metadata": {},
   "source": [
    "## CVE growth rate based on Publication Date"
   ]
  },
  {
   "cell_type": "code",
   "execution_count": 42,
   "id": "51aecc99-fb51-46cc-8dff-d2fff4cf3aed",
   "metadata": {},
   "outputs": [
    {
     "data": {
      "text/html": [
       "<iframe\n",
       "    scrolling=\"no\"\n",
       "    width=\"100%\"\n",
       "    height=\"545px\"\n",
       "    src=\"iframe_figures/figure_42.html\"\n",
       "    frameborder=\"0\"\n",
       "    allowfullscreen\n",
       "></iframe>\n"
      ]
     },
     "metadata": {},
     "output_type": "display_data"
    }
   ],
   "source": [
    "X = data_final.published_date.dt.to_period('Q').sort_index().value_counts()\n",
    "X.index = X.index.to_timestamp()\n",
    "X = X.sort_index()\n",
    "X[X.index] = np.cumsum(X.values)\n",
    "\n",
    "rolling = data_final.published_date.dt.to_period('M').sort_index().value_counts()\n",
    "rolling.index = rolling.index.to_timestamp()\n",
    "rolling = rolling.sort_index()\n",
    "rolling[rolling.index] = np.cumsum(rolling.values)\n",
    "rolling = rolling.rolling(12, axis=0).sum().pct_change(axis=0)\n",
    "\n",
    "fig = make_subplots(rows=1, cols=2)\n",
    "# Trace 1: Grey bars\n",
    "fig.add_trace(go.Bar(x=X.index[:-20],y=X.values[:-20],marker_color=\"#bbbbbb\",),row=1,col=1)\n",
    "# Trace 2: Blue (emph) bars\n",
    "fig.add_trace(go.Bar(x=X.index[-20:],y=X.values[-20:],marker_color=\"#2aa198\"), row=1,col=1)\n",
    "# Trace 3: Growth rate\n",
    "#fig.add_trace(go.Scatter(x=rolling.index,y=rolling.values,marker_color=\"#bbaabb\",mode=\"lines\"),row=1,col=2)\n",
    "fig.update_layout(title=dict(text=\"Threat Proliferation\",xref=\"paper\",x=0., y=1.),\n",
    "                  font=dict(family=\"Arial\",size=14,color=\"#586e75\"),\n",
    "                  xaxis=dict(showgrid=False),yaxis=dict(showgrid=False),\n",
    "                  annotations = [ dict(xref='paper',yref='paper',x=0., y=1.2,showarrow=False,\n",
    "                                  text ='The number of known threats (left) continues to grow and 60% overall CVE reported in last 6 years',\n",
    "            valign='top',\n",
    "            align='left'\n",
    "        ),\n",
    "                      dict(ax=-80,ay=-100,x=X.index[-20],y=40000,text='60% of threats occur after 2015')],\n",
    "                  showlegend=False,paper_bgcolor='rgba(0,0,0,0)',plot_bgcolor='rgba(0,0,0,0)',bargap=0\n",
    "                )\n",
    "fig.show(renderer=\"iframe\")\n"
   ]
  },
  {
   "cell_type": "markdown",
   "id": "bc63bd64-444e-4ae6-bdaa-4a9980e724be",
   "metadata": {},
   "source": [
    "## What is the severity distribution of vulnerabilities?"
   ]
  },
  {
   "cell_type": "code",
   "execution_count": 21,
   "id": "61a57dca-e78a-4389-a5f6-42a0e1c7accc",
   "metadata": {},
   "outputs": [],
   "source": [
    "data_loc = cve_loc[['cve_id', 'cvss_base_score']]\n",
    "data_remo = cve[['cve_id', 'cvss_base_score']]\n",
    "data_final = pd.concat([data_loc, data_remo]).drop_duplicates().reset_index(drop=True)"
   ]
  },
  {
   "cell_type": "code",
   "execution_count": 22,
   "id": "c08fd106-7c2f-4521-8079-d2e1c45d2c8f",
   "metadata": {},
   "outputs": [
    {
     "data": {
      "text/plain": [
       "<AxesSubplot:xlabel='cvss_base_score', ylabel='Count'>"
      ]
     },
     "execution_count": 22,
     "metadata": {},
     "output_type": "execute_result"
    },
    {
     "data": {
      "image/png": "[encoded data removed]",
      "text/plain": [
       "<Figure size 432x288 with 1 Axes>"
      ]
     },
     "metadata": {},
     "output_type": "display_data"
    }
   ],
   "source": [
    "sns.set_theme(style='darkgrid')\n",
    "sns.histplot(data=data_final, x='cvss_base_score', bins=10, binrange=(1,10))"
   ]
  },
  {
   "cell_type": "code",
   "execution_count": 24,
   "id": "51b20866-b01a-4c49-ae98-13f48c222645",
   "metadata": {},
   "outputs": [
    {
     "data": {
      "text/html": [
       "<iframe\n",
       "    scrolling=\"no\"\n",
       "    width=\"100%\"\n",
       "    height=\"545px\"\n",
       "    src=\"iframe_figures/figure_24.html\"\n",
       "    frameborder=\"0\"\n",
       "    allowfullscreen\n",
       "></iframe>\n"
      ]
     },
     "metadata": {},
     "output_type": "display_data"
    }
   ],
   "source": [
    "fig = go.Figure()\n",
    "X = data_final.cvss_base_score.sort_values().astype('int').value_counts().sort_index()[1:]\n",
    "# Three traces\n",
    "fig.add_trace(go.Bar(x=X.index.map(lambda x: \"{}-{}\".format(x-1,x)),\n",
    "            y=X.values/np.sum(X.values)*100,\n",
    "            marker_color=['#bbbbbb', '#add8e6', '#add8e6', '#ffa500', '#ffa500', '#ffa500', '#ffa500', '#dc322f', '#dc322f', '#8b0000'],\n",
    "            text=np.vectorize(lambda x: str(x) + \"%\")(np.round((X.values/np.sum(X.values) * 100),1)),\n",
    "            textposition='outside'))\n",
    "fig.update_layout(\n",
    "    title=dict(text=\"Threat Severity Distribution\",xref=\"paper\",x=0., y=1.),\n",
    "    font=dict(family=\"Arial\",size=14,color=\"#586e75\"),\n",
    "    xaxis=dict(showgrid=False,),\n",
    "    yaxis=dict(showgrid=False,showticklabels=False),\n",
    "    annotations=[dict(xref='paper',yref='paper',x=0., y=1.2,showarrow=False,\n",
    "            text =\"CVSS scores reflect a threat's severity. Over 75 percent of scores fall in FIRSTs Medium (4.0-6.9) threat category<br>\" +\n",
    "            \"with a thicker tail toward the higher end of the spectrum.\",\n",
    "            valign='top',align='left'),],\n",
    "    paper_bgcolor='rgba(0,0,0,0)',\n",
    "    plot_bgcolor='rgba(0,0,0,0)',\n",
    "    bargap=0\n",
    ")\n",
    "fig.show(renderer='iframe')"
   ]
  },
  {
   "cell_type": "markdown",
   "id": "0ae6716f-a9a5-4151-88eb-a4fec9d41542",
   "metadata": {},
   "source": [
    "## Vulnerability impact trends"
   ]
  },
  {
   "cell_type": "code",
   "execution_count": 25,
   "id": "dd39bb56-fe18-4fb0-af72-484ede5a4938",
   "metadata": {},
   "outputs": [],
   "source": [
    "cve = cve_loc\n",
    "# Authentication Access\n",
    "single = pd.get_dummies(cve.access_authentication.dropna()).groupby(cve.published_date.dt.to_period('Y')).mean().SINGLE\n",
    "none = pd.get_dummies(cve.access_authentication.dropna()).groupby(cve.published_date.dt.to_period('Y')).mean().NONE\n",
    "\n",
    "# Access required\n",
    "low = pd.get_dummies(cve.access_complexity.dropna()).groupby(cve.published_date.dt.to_period('Y')).mean().LOW\n",
    "med = pd.get_dummies(cve.access_complexity.dropna()).groupby(cve.published_date.dt.to_period('Y')).mean().MEDIUM\n",
    "high = pd.get_dummies(cve.access_complexity.dropna()).groupby(cve.published_date.dt.to_period('Y')).mean().HIGH\n",
    "\n",
    "# Attack vector\n",
    "net = pd.get_dummies(cve.access_vector.dropna()).groupby(cve.published_date.dt.to_period('Y')).mean().NETWORK\n",
    "loc = pd.get_dummies(cve.access_vector.dropna()).groupby(cve.published_date.dt.to_period('Y')).mean().LOCAL\n",
    "adj = pd.get_dummies(cve.access_vector.dropna()).groupby(cve.published_date.dt.to_period('Y')).mean().ADJACENT_NETWORK\n",
    "\n",
    "# Impact on Availability\n",
    "part = pd.get_dummies(cve.impact_availability.dropna()).groupby(cve.published_date.dt.to_period('Y')).mean().PARTIAL\n",
    "no_ia = pd.get_dummies(cve.impact_availability.dropna()).groupby(cve.published_date.dt.to_period('Y')).mean().NONE\n",
    "comp = pd.get_dummies(cve.impact_availability.dropna()).groupby(cve.published_date.dt.to_period('Y')).mean().COMPLETE\n",
    "\n",
    "# Impact on Confidentiality\n",
    "part_ic = pd.get_dummies(cve.impact_confidentiality.dropna()).groupby(cve.published_date.dt.to_period('Y')).mean().PARTIAL\n",
    "no_ic = pd.get_dummies(cve.impact_confidentiality.dropna()).groupby(cve.published_date.dt.to_period('Y')).mean().NONE\n",
    "comp_ic = pd.get_dummies(cve.impact_confidentiality.dropna()).groupby(cve.published_date.dt.to_period('Y')).mean().COMPLETE\n",
    "\n",
    "# Impact on Integrity\n",
    "part_ii = pd.get_dummies(cve.impact_integrity.dropna()).groupby(cve.published_date.dt.to_period('Y')).mean().PARTIAL\n",
    "no_ii = pd.get_dummies(cve.impact_integrity.dropna()).groupby(cve.published_date.dt.to_period('Y')).mean().NONE\n",
    "comp_ii = pd.get_dummies(cve.impact_integrity.dropna()).groupby(cve.published_date.dt.to_period('Y')).mean().COMPLETE"
   ]
  },
  {
   "cell_type": "code",
   "execution_count": 26,
   "id": "5aad6635-ae90-413b-9f3d-8b2c7a07ece0",
   "metadata": {},
   "outputs": [],
   "source": [
    "traces = [[single, none],[low, med, high],[net, loc, adj],[part, no_ia, comp],[part_ic, no_ic, comp_ic],[part_ii, no_ii, comp_ii],]\n",
    "texts = [['Single', 'None'],['Low', 'Medium', 'High'],['Network', 'Local', 'Adj. Network'],['Partial', 'None', 'Complete'],\n",
    "    ['Partial', 'None', 'Complete'],['Partial', 'None', 'Complete'],]\n",
    "colors = ['#2aa198', '#268bd2', '#dc322f']"
   ]
  },
  {
   "cell_type": "code",
   "execution_count": 27,
   "id": "13c634f3-30b0-4006-82c7-535e3c98f38d",
   "metadata": {},
   "outputs": [
    {
     "data": {
      "text/html": [
       "<iframe\n",
       "    scrolling=\"no\"\n",
       "    width=\"100%\"\n",
       "    height=\"1220\"\n",
       "    src=\"iframe_figures/figure_27.html\"\n",
       "    frameborder=\"0\"\n",
       "    allowfullscreen\n",
       "></iframe>\n"
      ]
     },
     "metadata": {},
     "output_type": "display_data"
    }
   ],
   "source": [
    "fig = make_subplots(rows=3, cols=2, \n",
    "    subplot_titles=[\n",
    "        'Authentication required',\n",
    "        'Impact on availability',\n",
    "        'Access required',\n",
    "        'Impact on confidentiality',\n",
    "        'Attack vector',\n",
    "        'Impact on integrity'\n",
    "])\n",
    "for i, (t, txt) in enumerate(zip(traces, texts)):\n",
    "    for ndx, trace in enumerate(t):\n",
    "        fig.add_trace(go.Scatter(x = [trace.index.to_timestamp()[-1]],y = [trace[-1]],name = \"\",\n",
    "                                 text = \" {}% {}\".format(np.round(trace[-1] * 100, 1), txt[ndx]),\n",
    "                                 textposition='middle right',mode='text',cliponaxis=False),row=i%3 + 1,col=i//3 + 1,)\n",
    "        fig.add_trace(\n",
    "             go.Scatter(\n",
    "                x = trace.index.to_timestamp(),\n",
    "                y = trace,\n",
    "                name = \"\",\n",
    "                line=dict(color=colors[ndx])\n",
    "            ),\n",
    "            row=i%3 + 1,\n",
    "            col=i//3 + 1\n",
    "        )\n",
    "\n",
    "        fig.add_trace(\n",
    "            go.Scatter(\n",
    "                x = [trace.index.to_timestamp()[0]],\n",
    "                y = [trace[0]],\n",
    "                name = \"\",\n",
    "                text = \"{}% \".format(np.round(trace[0] * 100), 1),\n",
    "                textposition='middle left',\n",
    "                mode='text',\n",
    "                cliponaxis=False\n",
    "            ),\n",
    "            row=i%3 + 1,\n",
    "            col=i//3 + 1\n",
    "            )\n",
    "\n",
    "fig.update_layout(showlegend=False,height=1200,title=dict(text=\"Access and impact\",),\n",
    "    font=dict(family=\"Arial\",size=12,color=\"#586e75\"),\n",
    "    xaxis=dict(showgrid=False,),\n",
    "    yaxis=dict(showgrid=False,showticklabels=False),\n",
    "    yaxis2=dict(showgrid=False,showticklabels=False),\n",
    "    yaxis3=dict(showgrid=False,showticklabels=False),\n",
    "    yaxis4=dict(showgrid=False,showticklabels=False),\n",
    "    yaxis5=dict(showgrid=False,showticklabels=False),\n",
    "    yaxis6=dict(showgrid=False,showticklabels=False),\n",
    "    paper_bgcolor='rgba(0,0,0,0)',\n",
    "    plot_bgcolor='rgba(0,0,0,0)'\n",
    ")\n",
    "fig.show(renderer='iframe')\n"
   ]
  },
  {
   "cell_type": "markdown",
   "id": "d4c3fba9-f5a9-444a-ab1e-804f29927ba1",
   "metadata": {},
   "source": [
    "## Exploitability Analysis - How threats have changed over time"
   ]
  },
  {
   "cell_type": "code",
   "execution_count": 28,
   "id": "5d73989d-9c68-492e-8b6d-464979819cfe",
   "metadata": {},
   "outputs": [
    {
     "data": {
      "text/html": [
       "<iframe\n",
       "    scrolling=\"no\"\n",
       "    width=\"100%\"\n",
       "    height=\"940\"\n",
       "    src=\"iframe_figures/figure_28.html\"\n",
       "    frameborder=\"0\"\n",
       "    allowfullscreen\n",
       "></iframe>\n"
      ]
     },
     "metadata": {},
     "output_type": "display_data"
    },
    {
     "data": {
      "text/plain": [
       "<Figure size 720x360 with 0 Axes>"
      ]
     },
     "metadata": {},
     "output_type": "display_data"
    }
   ],
   "source": [
    "plt.figure(figsize=(10,5))\n",
    "fig = go.Figure()\n",
    "\n",
    "X = pd.get_dummies(cve.cwe_name[cve.cwe_name.isin(cve.cwe_name.value_counts()[:10].index)]).join(cve_loc.published_date).groupby(cve_loc.published_date.dt.to_period(\"D\")).sum()\n",
    "colors = ['#ababab', '#cb4b16', '#268bd2', '#ebebeb', '#2aa198', '#dc322f', '#bbbbbb', '#9b9b9b', '#cbcbcb', '#dbdbdb']\n",
    "X.index = X.index.to_timestamp()\n",
    "X = X.divide(X.sum(axis=1), axis=0)\n",
    "# One trace for each column\n",
    "for ndx in range(X.shape[1]):\n",
    "    data = X.iloc[:,ndx].rolling(365,axis=0).mean() \n",
    "    fig.add_trace(go.Scatter(\n",
    "\n",
    "        x=data.index[365:],\n",
    "        y=data.values[365:], \n",
    "        name=X.columns[ndx] if \"'\" not in X.columns[ndx] else X.columns[ndx].split(\"'\")[1],\n",
    "        marker_color=colors[ndx]\n",
    "    ))\n",
    "    fig.update_layout(title=dict(text=\"How threats have changed over time\",xref=\"paper\",x=0., y=1.),height=920,\n",
    "                      font=dict(family=\"Arial\",size=14,color=\"#586e75\"),\n",
    "                      xaxis=dict(showgrid=False,),\n",
    "                      yaxis=dict(showgrid=False,showticklabels=False),\n",
    "                      annotations=[dict(xref='paper',yref='paper',x=0., y=1.075,showarrow=False,\n",
    "                                   text =\"These threats are the 10 most common, but their relative prominence is shifting, injection (code and SQL)<br>\" + \n",
    "                                         \" is becoming less common while cross-site scripting and input validation are on the rise. \" +\n",
    "                                         \"Values are shown as <br> a 365-entry rolling average of relative frequencies.\",\n",
    "                                    valign='top',align='left'),],\n",
    "                      paper_bgcolor='rgba(0,0,0,0)',\n",
    "                      plot_bgcolor='rgba(0,0,0,0)',\n",
    "                      legend=dict(x=0., y=1.))\n",
    "fig.show(renderer='iframe')\n"
   ]
  },
  {
   "cell_type": "markdown",
   "id": "649b5762-4556-4c62-ba1d-48d5d1df6285",
   "metadata": {},
   "source": [
    "## Vulnerable Products and Vendor Analysis"
   ]
  },
  {
   "cell_type": "code",
   "execution_count": 29,
   "id": "04e94f4a-61c6-4ed9-9299-6766394d047e",
   "metadata": {},
   "outputs": [],
   "source": [
    "conn = pymysql.connect(host='localhost', port=int(3306), user='root', passwd='spartandb', db='spartan')\n",
    "cpe = pd.read_sql_query('SELECT * FROM bastazo_common_cpe', conn)"
   ]
  },
  {
   "cell_type": "code",
   "execution_count": 30,
   "id": "3aeaca52-a713-4f69-b8a5-6f7200b2f490",
   "metadata": {},
   "outputs": [],
   "source": [
    "cpe_data = cpe[['vendor', 'product']]\n",
    "cpe_final = cpe_data.drop_duplicates().reset_index(drop=True)"
   ]
  },
  {
   "cell_type": "markdown",
   "id": "041b069a-9476-46f3-b29d-3c262b25d864",
   "metadata": {},
   "source": [
    "## Top 20 vendors by product count"
   ]
  },
  {
   "cell_type": "code",
   "execution_count": 31,
   "id": "682cf361-c6ec-4de6-a0c5-4d60e5efa7e3",
   "metadata": {},
   "outputs": [
    {
     "data": {
      "text/html": [
       "<iframe\n",
       "    scrolling=\"no\"\n",
       "    width=\"100%\"\n",
       "    height=\"820\"\n",
       "    src=\"iframe_figures/figure_31.html\"\n",
       "    frameborder=\"0\"\n",
       "    allowfullscreen\n",
       "></iframe>\n"
      ]
     },
     "metadata": {},
     "output_type": "display_data"
    }
   ],
   "source": [
    "X = cpe_final.vendor.value_counts()[0:20]\n",
    "X.sort_values(ascending=True, inplace=True)\n",
    "\n",
    "fig = go.Figure()\n",
    "fig.add_trace(go.Bar(\n",
    "    y=np.vectorize(lambda x: \" \".join(map(lambda x: x.title() if len(x) > 3 else x.upper(), x.split(\"_\"))))(X.index),\n",
    "    x=X.values,\n",
    "    orientation='h',\n",
    "    marker_color= \"#889900\"\n",
    "))\n",
    "fig.update_layout(height=800,\n",
    "    title=dict(xref='paper',text=\"Top 20 CPE Vendors by product count\",x=0, y=.965),\n",
    "    font=dict(family=\"Arial\",size=14,color=\"#586e75\"),\n",
    "    xaxis=dict(showgrid=False),\n",
    "    yaxis=dict(showgrid=False,tickmode=\"linear\"),\n",
    "    annotations=[dict(xref='paper',yref='paper',x=0., y=1.075,showarrow=False,\n",
    "                      text=\"40% of the products are distributed among these top 20 vendors\",\n",
    "            valign='top',\n",
    "            align='left'),],\n",
    "    paper_bgcolor='rgba(0,0,0,0)',\n",
    "    plot_bgcolor='rgba(0,0,0,0)',\n",
    "    bargap=.2\n",
    ")\n",
    "fig.show(renderer='iframe')"
   ]
  },
  {
   "cell_type": "markdown",
   "id": "6c426e29-288a-45ff-860a-85a8d19c18ac",
   "metadata": {},
   "source": [
    "## Top 20 Vendors by CVE count"
   ]
  },
  {
   "cell_type": "code",
   "execution_count": 32,
   "id": "e825a953-1123-43f1-b7be-5c28b3bbc38c",
   "metadata": {},
   "outputs": [],
   "source": [
    "products = pd.read_csv('./products/products.csv', header=0, index_col=0)\n",
    "vendors = pd.read_csv('./vendors/vendors.csv', header=0, index_col=0)"
   ]
  },
  {
   "cell_type": "code",
   "execution_count": 33,
   "id": "e1ff35f4-fe15-42f9-8f8c-ca24f92e878f",
   "metadata": {},
   "outputs": [
    {
     "data": {
      "text/html": [
       "<iframe\n",
       "    scrolling=\"no\"\n",
       "    width=\"100%\"\n",
       "    height=\"820\"\n",
       "    src=\"iframe_figures/figure_33.html\"\n",
       "    frameborder=\"0\"\n",
       "    allowfullscreen\n",
       "></iframe>\n"
      ]
     },
     "metadata": {},
     "output_type": "display_data"
    }
   ],
   "source": [
    "X = vendors.vendor.value_counts()[0:20]\n",
    "X.sort_values(ascending=True, inplace=True)\n",
    "fig = go.Figure()\n",
    "fig.add_trace(go.Bar(\n",
    "    y=np.vectorize(lambda x: \" \".join(map(lambda x: x.title() if len(x) > 3 else x.upper(), x.split(\"_\"))))(X.index),\n",
    "    x=X.values,\n",
    "    orientation='h',\n",
    "    marker_color= \"#268bd2\"\n",
    "))\n",
    "fig.update_layout(height=800,\n",
    "    title=dict(xref='paper',text=\"Top 20 Affected Vendors\",x=0, y=.965),\n",
    "    font=dict(family=\"Arial\",size=14,color=\"#586e75\"),\n",
    "    xaxis=dict(showgrid=False),\n",
    "    yaxis=dict(showgrid=False,tickmode=\"linear\"),\n",
    "    annotations=[dict(xref='paper',yref='paper',x=0., y=1.075,showarrow=False,\n",
    "                      text=\"50% of the products affected by any vulnerability are distributed among these top 20 vendors\",\n",
    "            valign='top',\n",
    "            align='left'),],\n",
    "    paper_bgcolor='rgba(0,0,0,0)',\n",
    "    plot_bgcolor='rgba(0,0,0,0)',\n",
    "    bargap=.2\n",
    ")\n",
    "fig.show(renderer='iframe')"
   ]
  },
  {
   "cell_type": "markdown",
   "id": "a33c0e80-181e-407e-adf3-a021c1d9f390",
   "metadata": {},
   "source": [
    "## Top 25 Affected products"
   ]
  },
  {
   "cell_type": "code",
   "execution_count": 34,
   "id": "9906112e-2bbb-4cad-b5f1-52f70b01845d",
   "metadata": {},
   "outputs": [
    {
     "data": {
      "text/html": [
       "<iframe\n",
       "    scrolling=\"no\"\n",
       "    width=\"100%\"\n",
       "    height=\"820\"\n",
       "    src=\"iframe_figures/figure_34.html\"\n",
       "    frameborder=\"0\"\n",
       "    allowfullscreen\n",
       "></iframe>\n"
      ]
     },
     "metadata": {},
     "output_type": "display_data"
    }
   ],
   "source": [
    "X = products.vulnerable_product.value_counts()[25:0:-1]\n",
    "\n",
    "fig = go.Figure()\n",
    "fig.add_trace(go.Bar(\n",
    "    y=np.vectorize(lambda x: \" \".join(map(lambda x: x.title() if len(x) > 2 else x.upper(), x.split(\"_\"))))(X.index),\n",
    "    x=X.values,\n",
    "    orientation='h',\n",
    "    marker_color= [\"#268bd2\"] * 3 + [\"#bbbbbb\"] + [\"#268bd2\"] * 5 + [\"#859900\"] + [\"#268bd2\"] + [\"#859900\"] + [\"#268bd2\"] * 2 + [\"#bbbbbb\"] * 2 + [\"#268bd2\"] * 2 + [\"#859900\"] * 2 + [\"#268bd2\"] * 5\n",
    "))\n",
    "fig.update_layout(height=800,\n",
    "                  title=dict(xref='paper',text=\"Affected Products\",x=0, y=.965),\n",
    "                  font=dict(family=\"Arial\",size=14,color=\"#586e75\"),\n",
    "                  xaxis=dict(showgrid=False),\n",
    "                  yaxis=dict(showgrid=False,tickmode=\"linear\"),\n",
    "                  annotations=[dict(xref='paper',yref='paper',x=0., y=1.075,showarrow=False,\n",
    "                                text=\"Most of the top 25 affected products are operating systems (blue) or web browsers (green)\",\n",
    "                                valign='top',align='left'),],\n",
    "                  paper_bgcolor='rgba(0,0,0,0)',\n",
    "                  plot_bgcolor='rgba(0,0,0,0)',\n",
    "                  bargap=.2)\n",
    "fig.show(renderer='iframe')\n"
   ]
  },
  {
   "cell_type": "code",
   "execution_count": null,
   "id": "ab363c86-11b8-4668-86a3-e04c3b450928",
   "metadata": {},
   "outputs": [],
   "source": []
  }
 ],
 "metadata": {
  "kernelspec": {
   "display_name": "Python 3",
   "language": "python",
   "name": "python3"
  },
  "language_info": {
   "codemirror_mode": {
    "name": "ipython",
    "version": 3
   },
   "file_extension": ".py",
   "mimetype": "text/x-python",
   "name": "python",
   "nbconvert_exporter": "python",
   "pygments_lexer": "ipython3",
   "version": "3.9.2"
  }
 },
 "nbformat": 4,
 "nbformat_minor": 5
}
