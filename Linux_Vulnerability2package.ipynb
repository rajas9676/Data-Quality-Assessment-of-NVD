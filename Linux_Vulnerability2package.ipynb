{
 "cells": [
  {
   "cell_type": "code",
   "execution_count": 1,
   "id": "965912bd-1707-40ed-b13e-9b297ce3ad2a",
   "metadata": {},
   "outputs": [],
   "source": [
    "import pymysql\n",
    "import pandas as pd\n",
    "import seaborn as sns"
   ]
  },
  {
   "cell_type": "code",
   "execution_count": 6,
   "id": "55e6b564-493e-4920-8e78-d9615cd4b34c",
   "metadata": {},
   "outputs": [],
   "source": [
    "#pip install seaborn"
   ]
  },
  {
   "cell_type": "code",
   "execution_count": 2,
   "id": "7d134892-1938-4c46-b3a0-f15b3e241ccb",
   "metadata": {},
   "outputs": [],
   "source": [
    "import numpy as np\n",
    "import matplotlib.pyplot as plt"
   ]
  },
  {
   "cell_type": "code",
   "execution_count": 3,
   "id": "cc38a8fc-0196-4158-a976-9e3300f4395b",
   "metadata": {},
   "outputs": [],
   "source": [
    "conn = pymysql.connect(host='localhost', port=int(3306), user='root', passwd='spartandb', db='spartan')"
   ]
  },
  {
   "cell_type": "code",
   "execution_count": 4,
   "id": "8c68cf32-4e8e-47f1-ad80-d163bdd596a0",
   "metadata": {},
   "outputs": [],
   "source": [
    "data = pd.read_sql_query('SELECT * FROM bastazo_common_vulnerabilitytopackage', conn)\n",
    "data_adv = pd.read_sql_query('SELECT * FROM bastazo_common_patch', conn)"
   ]
  },
  {
   "cell_type": "code",
   "execution_count": 159,
   "id": "1bae8ceb-ac5f-4fdd-9e2e-287a7160a8ce",
   "metadata": {},
   "outputs": [
    {
     "data": {
      "text/plain": [
       "(710281, 8)"
      ]
     },
     "execution_count": 159,
     "metadata": {},
     "output_type": "execute_result"
    }
   ],
   "source": [
    "data.shape"
   ]
  },
  {
   "cell_type": "code",
   "execution_count": 160,
   "id": "3c3eb6bd-0edc-4260-bc47-0917389796b3",
   "metadata": {},
   "outputs": [
    {
     "data": {
      "text/plain": [
       "redhat    626303\n",
       "suse       50151\n",
       "ubuntu     21586\n",
       "debian     12241\n",
       "Name: source, dtype: int64"
      ]
     },
     "execution_count": 160,
     "metadata": {},
     "output_type": "execute_result"
    }
   ],
   "source": [
    "data.source.value_counts()"
   ]
  },
  {
   "cell_type": "code",
   "execution_count": 6,
   "id": "604a7a59-4ae1-4659-a5c6-b4960b723e02",
   "metadata": {},
   "outputs": [],
   "source": [
    "def extract_name(rpm):\n",
    "    nameindex = rpm.find('-')\n",
    "    name = rpm[:nameindex]\n",
    "    return name"
   ]
  },
  {
   "cell_type": "code",
   "execution_count": 7,
   "id": "1df0a524-0729-4dc5-be1e-bc909b38a336",
   "metadata": {},
   "outputs": [],
   "source": [
    "data.loc[data.source=='redhat', 'package'] = data.loc[data.source=='redhat','package'].apply(extract_name)"
   ]
  },
  {
   "cell_type": "code",
   "execution_count": 7,
   "id": "a5fd459d-462a-4cb6-9320-db4d8b4f87bb",
   "metadata": {},
   "outputs": [
    {
     "data": {
      "text/html": [
       "<div>\n",
       "<style scoped>\n",
       "    .dataframe tbody tr th:only-of-type {\n",
       "        vertical-align: middle;\n",
       "    }\n",
       "\n",
       "    .dataframe tbody tr th {\n",
       "        vertical-align: top;\n",
       "    }\n",
       "\n",
       "    .dataframe thead th {\n",
       "        text-align: right;\n",
       "    }\n",
       "</style>\n",
       "<table border=\"1\" class=\"dataframe\">\n",
       "  <thead>\n",
       "    <tr style=\"text-align: right;\">\n",
       "      <th></th>\n",
       "      <th>id</th>\n",
       "      <th>is_new</th>\n",
       "      <th>is_update</th>\n",
       "      <th>cve_id</th>\n",
       "      <th>package</th>\n",
       "      <th>operatingsystem_cpe</th>\n",
       "      <th>source</th>\n",
       "      <th>record_updated</th>\n",
       "    </tr>\n",
       "  </thead>\n",
       "  <tbody>\n",
       "    <tr>\n",
       "      <th>0</th>\n",
       "      <td>1</td>\n",
       "      <td>1</td>\n",
       "      <td>0</td>\n",
       "      <td>CVE-2000-1191</td>\n",
       "      <td>htdig</td>\n",
       "      <td>None</td>\n",
       "      <td>redhat</td>\n",
       "      <td>2021-08-29 04:29:44.860328</td>\n",
       "    </tr>\n",
       "    <tr>\n",
       "      <th>1</th>\n",
       "      <td>2</td>\n",
       "      <td>1</td>\n",
       "      <td>0</td>\n",
       "      <td>CVE-2000-1191</td>\n",
       "      <td>htdig</td>\n",
       "      <td>None</td>\n",
       "      <td>redhat</td>\n",
       "      <td>2021-08-29 04:29:44.860328</td>\n",
       "    </tr>\n",
       "    <tr>\n",
       "      <th>2</th>\n",
       "      <td>3</td>\n",
       "      <td>1</td>\n",
       "      <td>0</td>\n",
       "      <td>CVE-2005-2873</td>\n",
       "      <td>kernel</td>\n",
       "      <td>None</td>\n",
       "      <td>redhat</td>\n",
       "      <td>2021-08-29 04:29:44.860328</td>\n",
       "    </tr>\n",
       "    <tr>\n",
       "      <th>3</th>\n",
       "      <td>4</td>\n",
       "      <td>1</td>\n",
       "      <td>0</td>\n",
       "      <td>CVE-2006-1863</td>\n",
       "      <td>kernel</td>\n",
       "      <td>None</td>\n",
       "      <td>redhat</td>\n",
       "      <td>2021-08-29 04:29:44.860328</td>\n",
       "    </tr>\n",
       "    <tr>\n",
       "      <th>4</th>\n",
       "      <td>5</td>\n",
       "      <td>1</td>\n",
       "      <td>0</td>\n",
       "      <td>CVE-2007-1592</td>\n",
       "      <td>kernel</td>\n",
       "      <td>None</td>\n",
       "      <td>redhat</td>\n",
       "      <td>2021-08-29 04:29:44.860328</td>\n",
       "    </tr>\n",
       "  </tbody>\n",
       "</table>\n",
       "</div>"
      ],
      "text/plain": [
       "   id  is_new  is_update         cve_id package operatingsystem_cpe  source  \\\n",
       "0   1       1          0  CVE-2000-1191   htdig                None  redhat   \n",
       "1   2       1          0  CVE-2000-1191   htdig                None  redhat   \n",
       "2   3       1          0  CVE-2005-2873  kernel                None  redhat   \n",
       "3   4       1          0  CVE-2006-1863  kernel                None  redhat   \n",
       "4   5       1          0  CVE-2007-1592  kernel                None  redhat   \n",
       "\n",
       "              record_updated  \n",
       "0 2021-08-29 04:29:44.860328  \n",
       "1 2021-08-29 04:29:44.860328  \n",
       "2 2021-08-29 04:29:44.860328  \n",
       "3 2021-08-29 04:29:44.860328  \n",
       "4 2021-08-29 04:29:44.860328  "
      ]
     },
     "execution_count": 7,
     "metadata": {},
     "output_type": "execute_result"
    }
   ],
   "source": [
    "data.head()"
   ]
  },
  {
   "cell_type": "code",
   "execution_count": 163,
   "id": "864e9a42-79e7-4972-bf94-f087618e7289",
   "metadata": {},
   "outputs": [
    {
     "data": {
      "text/plain": [
       "redhat    626303\n",
       "suse       50151\n",
       "ubuntu     21586\n",
       "debian     12241\n",
       "Name: source, dtype: int64"
      ]
     },
     "execution_count": 163,
     "metadata": {},
     "output_type": "execute_result"
    }
   ],
   "source": [
    "data.source.value_counts()"
   ]
  },
  {
   "cell_type": "markdown",
   "id": "9d8dad12-ec6a-4066-9968-07d5c488e403",
   "metadata": {},
   "source": [
    "## BASELINE IMPORT(NON FILTERS)"
   ]
  },
  {
   "cell_type": "code",
   "execution_count": 164,
   "id": "663c6ce8-41ef-4c97-b925-00b0ca151187",
   "metadata": {},
   "outputs": [
    {
     "data": {
      "text/plain": [
       "<AxesSubplot:xlabel='source', ylabel='count'>"
      ]
     },
     "execution_count": 164,
     "metadata": {},
     "output_type": "execute_result"
    },
    {
     "data": {
      "image/png": "[encoded data removed]",
      "text/plain": [
       "<Figure size 432x288 with 1 Axes>"
      ]
     },
     "metadata": {},
     "output_type": "display_data"
    }
   ],
   "source": [
    "sns.set_theme(style='darkgrid')\n",
    "sns.countplot(x='source', data=data)"
   ]
  },
  {
   "cell_type": "markdown",
   "id": "ef738da1-493c-4fab-983d-e7a0af294ced",
   "metadata": {},
   "source": [
    "## DISTINCT CVE BY VENDOR"
   ]
  },
  {
   "cell_type": "code",
   "execution_count": 8,
   "id": "38e88565-12ad-4c9a-93fe-387b3830a360",
   "metadata": {},
   "outputs": [],
   "source": [
    "# distinct_cve = data.groupby(['cve_id', 'source']).first()\n",
    "distinct_cve = data.drop_duplicates(['cve_id', 'source'])"
   ]
  },
  {
   "cell_type": "code",
   "execution_count": 9,
   "id": "31dddfcf-c998-47e3-ae7a-03b085297163",
   "metadata": {},
   "outputs": [
    {
     "data": {
      "text/plain": [
       "suse      16170\n",
       "redhat    14074\n",
       "debian    10654\n",
       "ubuntu     6514\n",
       "Name: source, dtype: int64"
      ]
     },
     "execution_count": 9,
     "metadata": {},
     "output_type": "execute_result"
    }
   ],
   "source": [
    "distinct_cve.source.value_counts()"
   ]
  },
  {
   "cell_type": "code",
   "execution_count": 18,
   "id": "b5b30010-e37f-416f-817e-32bae68e488a",
   "metadata": {},
   "outputs": [
    {
     "data": {
      "text/plain": [
       "[Text(0.5, 1.0, 'Number of CVE reported by the Vendor')]"
      ]
     },
     "execution_count": 18,
     "metadata": {},
     "output_type": "execute_result"
    },
    {
     "data": {
      "image/png": "[encoded data removed]",
      "text/plain": [
       "<Figure size 576x288 with 1 Axes>"
      ]
     },
     "metadata": {},
     "output_type": "display_data"
    }
   ],
   "source": [
    "sns.set(rc = {'figure.figsize':(8,4)})\n",
    "sns.countplot(x='source', data=distinct_cve, order=distinct_cve['source'].value_counts().index).set(title='Number of CVE reported by the Vendor')"
   ]
  },
  {
   "cell_type": "markdown",
   "id": "bc6054ed-062c-415e-bf05-d4cc596ad577",
   "metadata": {},
   "source": [
    "## DISTINCT PACKAGE BY VENDOR"
   ]
  },
  {
   "cell_type": "code",
   "execution_count": 101,
   "id": "a7e046d3-64f7-4905-90a4-ee01dc794be4",
   "metadata": {},
   "outputs": [],
   "source": [
    "distinct_pkg = data.drop_duplicates(['package', 'source'])\n",
    "#distinct_pkg = data.groupby(['package', 'source']).agg('first')"
   ]
  },
  {
   "cell_type": "code",
   "execution_count": 102,
   "id": "16d4a785-4067-4d81-ba89-8aa71468803d",
   "metadata": {},
   "outputs": [
    {
     "data": {
      "text/plain": [
       "debian    2399\n",
       "suse      1730\n",
       "redhat    1611\n",
       "ubuntu    1564\n",
       "Name: source, dtype: int64"
      ]
     },
     "execution_count": 102,
     "metadata": {},
     "output_type": "execute_result"
    }
   ],
   "source": [
    "distinct_pkg.source.value_counts()"
   ]
  },
  {
   "cell_type": "code",
   "execution_count": 103,
   "id": "c88882a1-49a1-4280-8fdc-2dfa22526add",
   "metadata": {},
   "outputs": [
    {
     "data": {
      "text/plain": [
       "(7304, 8)"
      ]
     },
     "execution_count": 103,
     "metadata": {},
     "output_type": "execute_result"
    }
   ],
   "source": [
    "distinct_pkg.shape"
   ]
  },
  {
   "cell_type": "code",
   "execution_count": 23,
   "id": "f289eda7-a88a-4dc4-9218-537233684b2a",
   "metadata": {},
   "outputs": [
    {
     "data": {
      "text/plain": [
       "<AxesSubplot:xlabel='source', ylabel='count'>"
      ]
     },
     "execution_count": 23,
     "metadata": {},
     "output_type": "execute_result"
    },
    {
     "data": {
      "image/png": "[encoded data removed]",
      "text/plain": [
       "<Figure size 432x288 with 1 Axes>"
      ]
     },
     "metadata": {},
     "output_type": "display_data"
    }
   ],
   "source": [
    "sns.countplot(x='source', data=distinct_pkg)"
   ]
  },
  {
   "cell_type": "markdown",
   "id": "a4645fff-6e84-49e7-a01f-afa08c413a04",
   "metadata": {},
   "source": [
    "## DISTINCT CVE AND PACKAGE BY VENDOR"
   ]
  },
  {
   "cell_type": "code",
   "execution_count": 36,
   "id": "d83f7af7-3f1f-415d-9bc9-1d77dae34fe2",
   "metadata": {},
   "outputs": [],
   "source": [
    "# data_cvepkg = pd.read_sql_query('SELECT DISTINCT cve_id, package, source FROM bastazo_common_vulnerabilitytopackage', conn)"
   ]
  },
  {
   "cell_type": "code",
   "execution_count": 9,
   "id": "4abe642e-0636-44ee-8b91-68030c79b428",
   "metadata": {},
   "outputs": [],
   "source": [
    "distinct_cvepkgsrc = data.drop_duplicates(['cve_id', 'package', 'source'])"
   ]
  },
  {
   "cell_type": "code",
   "execution_count": 10,
   "id": "1150b9de-2dcd-49c6-8fb7-f991abcae629",
   "metadata": {},
   "outputs": [
    {
     "data": {
      "text/plain": [
       "suse      48614\n",
       "redhat    45877\n",
       "debian    12241\n",
       "ubuntu    11668\n",
       "Name: source, dtype: int64"
      ]
     },
     "execution_count": 10,
     "metadata": {},
     "output_type": "execute_result"
    }
   ],
   "source": [
    "distinct_cvepkgsrc.source.value_counts()"
   ]
  },
  {
   "cell_type": "code",
   "execution_count": 11,
   "id": "55c26e3d-6b9f-4384-9b90-98ad5879c6c6",
   "metadata": {},
   "outputs": [
    {
     "data": {
      "text/plain": [
       "(118400, 8)"
      ]
     },
     "execution_count": 11,
     "metadata": {},
     "output_type": "execute_result"
    }
   ],
   "source": [
    "distinct_cvepkgsrc.shape"
   ]
  },
  {
   "cell_type": "code",
   "execution_count": 12,
   "id": "5718b3eb-c994-4aed-8461-ddcf1bddabd0",
   "metadata": {},
   "outputs": [
    {
     "data": {
      "text/plain": [
       "<AxesSubplot:xlabel='source', ylabel='count'>"
      ]
     },
     "execution_count": 12,
     "metadata": {},
     "output_type": "execute_result"
    },
    {
     "data": {
      "image/png": "[encoded data removed]",
      "text/plain": [
       "<Figure size 432x288 with 1 Axes>"
      ]
     },
     "metadata": {
      "needs_background": "light"
     },
     "output_type": "display_data"
    }
   ],
   "source": [
    "sns.countplot(x='source', data=distinct_cvepkgsrc)"
   ]
  },
  {
   "cell_type": "markdown",
   "id": "4882b8eb-74d0-472a-b85c-f42fd54fe7d9",
   "metadata": {},
   "source": [
    "## Group by cve and package"
   ]
  },
  {
   "cell_type": "code",
   "execution_count": 13,
   "id": "427c738b-757b-4cec-b094-3c8fb841e5a3",
   "metadata": {},
   "outputs": [
    {
     "data": {
      "text/html": [
       "<div>\n",
       "<style scoped>\n",
       "    .dataframe tbody tr th:only-of-type {\n",
       "        vertical-align: middle;\n",
       "    }\n",
       "\n",
       "    .dataframe tbody tr th {\n",
       "        vertical-align: top;\n",
       "    }\n",
       "\n",
       "    .dataframe thead th {\n",
       "        text-align: right;\n",
       "    }\n",
       "</style>\n",
       "<table border=\"1\" class=\"dataframe\">\n",
       "  <thead>\n",
       "    <tr style=\"text-align: right;\">\n",
       "      <th></th>\n",
       "      <th>cve_id</th>\n",
       "      <th>package</th>\n",
       "      <th>source</th>\n",
       "    </tr>\n",
       "  </thead>\n",
       "  <tbody>\n",
       "    <tr>\n",
       "      <th>46554</th>\n",
       "      <td>CVE-2017-12132</td>\n",
       "      <td>glibc</td>\n",
       "      <td>4</td>\n",
       "    </tr>\n",
       "    <tr>\n",
       "      <th>56631</th>\n",
       "      <td>CVE-2018-10767</td>\n",
       "      <td>libgxps</td>\n",
       "      <td>4</td>\n",
       "    </tr>\n",
       "    <tr>\n",
       "      <th>60667</th>\n",
       "      <td>CVE-2018-16420</td>\n",
       "      <td>opensc</td>\n",
       "      <td>4</td>\n",
       "    </tr>\n",
       "    <tr>\n",
       "      <th>60668</th>\n",
       "      <td>CVE-2018-16421</td>\n",
       "      <td>opensc</td>\n",
       "      <td>4</td>\n",
       "    </tr>\n",
       "    <tr>\n",
       "      <th>60669</th>\n",
       "      <td>CVE-2018-16422</td>\n",
       "      <td>opensc</td>\n",
       "      <td>4</td>\n",
       "    </tr>\n",
       "    <tr>\n",
       "      <th>...</th>\n",
       "      <td>...</td>\n",
       "      <td>...</td>\n",
       "      <td>...</td>\n",
       "    </tr>\n",
       "    <tr>\n",
       "      <th>37011</th>\n",
       "      <td>CVE-2016-1000345</td>\n",
       "      <td>candlepin</td>\n",
       "      <td>1</td>\n",
       "    </tr>\n",
       "    <tr>\n",
       "      <th>37010</th>\n",
       "      <td>CVE-2016-1000345</td>\n",
       "      <td>bouncycastle</td>\n",
       "      <td>1</td>\n",
       "    </tr>\n",
       "    <tr>\n",
       "      <th>37009</th>\n",
       "      <td>CVE-2016-1000345</td>\n",
       "      <td>ansiblerole</td>\n",
       "      <td>1</td>\n",
       "    </tr>\n",
       "    <tr>\n",
       "      <th>37008</th>\n",
       "      <td>CVE-2016-1000344</td>\n",
       "      <td>tfm</td>\n",
       "      <td>1</td>\n",
       "    </tr>\n",
       "    <tr>\n",
       "      <th>108254</th>\n",
       "      <td>TEMP-0987831-866E01</td>\n",
       "      <td>php-laravel-framework</td>\n",
       "      <td>1</td>\n",
       "    </tr>\n",
       "  </tbody>\n",
       "</table>\n",
       "<p>108255 rows × 3 columns</p>\n",
       "</div>"
      ],
      "text/plain": [
       "                     cve_id                package  source\n",
       "46554        CVE-2017-12132                  glibc       4\n",
       "56631        CVE-2018-10767                libgxps       4\n",
       "60667        CVE-2018-16420                 opensc       4\n",
       "60668        CVE-2018-16421                 opensc       4\n",
       "60669        CVE-2018-16422                 opensc       4\n",
       "...                     ...                    ...     ...\n",
       "37011      CVE-2016-1000345              candlepin       1\n",
       "37010      CVE-2016-1000345           bouncycastle       1\n",
       "37009      CVE-2016-1000345            ansiblerole       1\n",
       "37008      CVE-2016-1000344                    tfm       1\n",
       "108254  TEMP-0987831-866E01  php-laravel-framework       1\n",
       "\n",
       "[108255 rows x 3 columns]"
      ]
     },
     "execution_count": 13,
     "metadata": {},
     "output_type": "execute_result"
    }
   ],
   "source": [
    "grp_cvepkg = distinct_cvepkgsrc.groupby(['cve_id', 'package'], as_index=False)['source'].count()\n",
    "grp_cvepkg.sort_values(['source'], ascending=False)"
   ]
  },
  {
   "cell_type": "code",
   "execution_count": 116,
   "id": "230eea38-ef67-4ffb-b913-36cc59823a5c",
   "metadata": {},
   "outputs": [
    {
     "data": {
      "text/plain": [
       "1    97422\n",
       "2     6610\n",
       "3     1240\n",
       "4      128\n",
       "Name: source, dtype: int64"
      ]
     },
     "execution_count": 116,
     "metadata": {},
     "output_type": "execute_result"
    }
   ],
   "source": [
    "grp_cvepkg.source.value_counts()"
   ]
  },
  {
   "cell_type": "code",
   "execution_count": 15,
   "id": "daea4ee3-a124-40f6-b9d8-e3b9a5dddf2f",
   "metadata": {},
   "outputs": [
    {
     "data": {
      "image/png": "[encoded data removed]",
      "text/plain": [
       "<Figure size 288x288 with 1 Axes>"
      ]
     },
     "metadata": {},
     "output_type": "display_data"
    }
   ],
   "source": [
    "counts = [97422, 20978]\n",
    "labels = ['Unique', 'Duplicate']\n",
    "plt.figure(figsize=(4,4))\n",
    "colors = sns.color_palette('pastel')[1:10]\n",
    "plt.pie(x=counts, labels=labels, colors=colors, autopct='%.0f%%')\n",
    "plt.show()"
   ]
  },
  {
   "cell_type": "code",
   "execution_count": 118,
   "id": "ee0c3bf1-a95d-4b7b-a92b-983d5288e24a",
   "metadata": {},
   "outputs": [
    {
     "data": {
      "text/plain": [
       "<AxesSubplot:xlabel='source', ylabel='count'>"
      ]
     },
     "execution_count": 118,
     "metadata": {},
     "output_type": "execute_result"
    },
    {
     "data": {
      "image/png": "[encoded data removed]",
      "text/plain": [
       "<Figure size 432x288 with 1 Axes>"
      ]
     },
     "metadata": {},
     "output_type": "display_data"
    }
   ],
   "source": [
    "sns.countplot(x='source', data=grp_cvepkg)"
   ]
  },
  {
   "cell_type": "markdown",
   "id": "a45d903c-b49c-4488-a00e-5641de611703",
   "metadata": {},
   "source": [
    "## Package names extracted from cloud instances"
   ]
  },
  {
   "cell_type": "code",
   "execution_count": 119,
   "id": "d28c8f0a-ff99-4629-b6b5-5273c2060c6d",
   "metadata": {},
   "outputs": [
    {
     "data": {
      "text/html": [
       "<div>\n",
       "<style scoped>\n",
       "    .dataframe tbody tr th:only-of-type {\n",
       "        vertical-align: middle;\n",
       "    }\n",
       "\n",
       "    .dataframe tbody tr th {\n",
       "        vertical-align: top;\n",
       "    }\n",
       "\n",
       "    .dataframe thead th {\n",
       "        text-align: right;\n",
       "    }\n",
       "</style>\n",
       "<table border=\"1\" class=\"dataframe\">\n",
       "  <thead>\n",
       "    <tr style=\"text-align: right;\">\n",
       "      <th></th>\n",
       "      <th>name</th>\n",
       "      <th>Vendor</th>\n",
       "    </tr>\n",
       "  </thead>\n",
       "  <tbody>\n",
       "    <tr>\n",
       "      <th>0</th>\n",
       "      <td>SLES</td>\n",
       "      <td>suse</td>\n",
       "    </tr>\n",
       "    <tr>\n",
       "      <th>1</th>\n",
       "      <td>SUSEConnect</td>\n",
       "      <td>suse</td>\n",
       "    </tr>\n",
       "    <tr>\n",
       "      <th>2</th>\n",
       "      <td>aaa_base</td>\n",
       "      <td>suse</td>\n",
       "    </tr>\n",
       "    <tr>\n",
       "      <th>3</th>\n",
       "      <td>aaa_base-extras</td>\n",
       "      <td>suse</td>\n",
       "    </tr>\n",
       "    <tr>\n",
       "      <th>4</th>\n",
       "      <td>apparmor-parser</td>\n",
       "      <td>suse</td>\n",
       "    </tr>\n",
       "    <tr>\n",
       "      <th>...</th>\n",
       "      <td>...</td>\n",
       "      <td>...</td>\n",
       "    </tr>\n",
       "    <tr>\n",
       "      <th>3950</th>\n",
       "      <td>gnutls</td>\n",
       "      <td>redhat</td>\n",
       "    </tr>\n",
       "    <tr>\n",
       "      <th>3951</th>\n",
       "      <td>trousers</td>\n",
       "      <td>redhat</td>\n",
       "    </tr>\n",
       "    <tr>\n",
       "      <th>3952</th>\n",
       "      <td>libmodulemd</td>\n",
       "      <td>redhat</td>\n",
       "    </tr>\n",
       "    <tr>\n",
       "      <th>3953</th>\n",
       "      <td>NetworkManager-libnm</td>\n",
       "      <td>redhat</td>\n",
       "    </tr>\n",
       "    <tr>\n",
       "      <th>3954</th>\n",
       "      <td>iproute</td>\n",
       "      <td>redhat</td>\n",
       "    </tr>\n",
       "  </tbody>\n",
       "</table>\n",
       "<p>3754 rows × 2 columns</p>\n",
       "</div>"
      ],
      "text/plain": [
       "                name                             Vendor\n",
       "0      SLES                                        suse\n",
       "1      SUSEConnect                                 suse\n",
       "2      aaa_base                                    suse\n",
       "3      aaa_base-extras                             suse\n",
       "4      apparmor-parser                             suse\n",
       "...                                         ...     ...\n",
       "3950                                     gnutls  redhat\n",
       "3951                                   trousers  redhat\n",
       "3952                                libmodulemd  redhat\n",
       "3953                       NetworkManager-libnm  redhat\n",
       "3954                                    iproute  redhat\n",
       "\n",
       "[3754 rows x 2 columns]"
      ]
     },
     "execution_count": 119,
     "metadata": {},
     "output_type": "execute_result"
    }
   ],
   "source": [
    "local_packages = pd.read_csv('linuxpackages.csv')\n",
    "local_packages.drop_duplicates(['name                           ', 'Vendor'])"
   ]
  },
  {
   "cell_type": "code",
   "execution_count": 120,
   "id": "2036e7ef-023e-43b6-9c41-872d46478bd5",
   "metadata": {},
   "outputs": [
    {
     "data": {
      "text/html": [
       "<div>\n",
       "<style scoped>\n",
       "    .dataframe tbody tr th:only-of-type {\n",
       "        vertical-align: middle;\n",
       "    }\n",
       "\n",
       "    .dataframe tbody tr th {\n",
       "        vertical-align: top;\n",
       "    }\n",
       "\n",
       "    .dataframe thead th {\n",
       "        text-align: right;\n",
       "    }\n",
       "</style>\n",
       "<table border=\"1\" class=\"dataframe\">\n",
       "  <thead>\n",
       "    <tr style=\"text-align: right;\">\n",
       "      <th></th>\n",
       "      <th>name</th>\n",
       "      <th>Vendor</th>\n",
       "    </tr>\n",
       "  </thead>\n",
       "  <tbody>\n",
       "    <tr>\n",
       "      <th>0</th>\n",
       "      <td>SLES</td>\n",
       "      <td>suse</td>\n",
       "    </tr>\n",
       "    <tr>\n",
       "      <th>1</th>\n",
       "      <td>SUSEConnect</td>\n",
       "      <td>suse</td>\n",
       "    </tr>\n",
       "    <tr>\n",
       "      <th>2</th>\n",
       "      <td>aaa_base</td>\n",
       "      <td>suse</td>\n",
       "    </tr>\n",
       "    <tr>\n",
       "      <th>3</th>\n",
       "      <td>aaa_base-extras</td>\n",
       "      <td>suse</td>\n",
       "    </tr>\n",
       "    <tr>\n",
       "      <th>4</th>\n",
       "      <td>apparmor-parser</td>\n",
       "      <td>suse</td>\n",
       "    </tr>\n",
       "  </tbody>\n",
       "</table>\n",
       "</div>"
      ],
      "text/plain": [
       "             name                            Vendor\n",
       "0   SLES                                       suse\n",
       "1   SUSEConnect                                suse\n",
       "2   aaa_base                                   suse\n",
       "3   aaa_base-extras                            suse\n",
       "4   apparmor-parser                            suse"
      ]
     },
     "execution_count": 120,
     "metadata": {},
     "output_type": "execute_result"
    }
   ],
   "source": [
    "local_packages.head()"
   ]
  },
  {
   "cell_type": "code",
   "execution_count": 21,
   "id": "9ba534b0-b8e8-4a21-9736-4c7153214fdb",
   "metadata": {},
   "outputs": [
    {
     "data": {
      "text/plain": [
       "ubuntu    2617\n",
       "suse       610\n",
       "redhat     397\n",
       "debian     331\n",
       "Name: Vendor, dtype: int64"
      ]
     },
     "execution_count": 21,
     "metadata": {},
     "output_type": "execute_result"
    }
   ],
   "source": [
    "local_packages.Vendor.value_counts()"
   ]
  },
  {
   "cell_type": "code",
   "execution_count": 22,
   "id": "680b07d7-382e-4266-99a4-c39ebc402e3f",
   "metadata": {},
   "outputs": [
    {
     "data": {
      "application/javascript": [
       "\n",
       "        if (window._pyforest_update_imports_cell) { window._pyforest_update_imports_cell('import seaborn as sns\\nimport pandas as pd'); }\n",
       "    "
      ],
      "text/plain": [
       "<IPython.core.display.Javascript object>"
      ]
     },
     "metadata": {},
     "output_type": "display_data"
    },
    {
     "data": {
      "text/plain": [
       "<AxesSubplot:xlabel='Vendor', ylabel='count'>"
      ]
     },
     "execution_count": 22,
     "metadata": {},
     "output_type": "execute_result"
    },
    {
     "data": {
      "image/png": "[encoded data removed]",
      "text/plain": [
       "<Figure size 432x288 with 1 Axes>"
      ]
     },
     "metadata": {
      "needs_background": "light"
     },
     "output_type": "display_data"
    }
   ],
   "source": [
    "sns.countplot(x='Vendor', data=local_packages)"
   ]
  },
  {
   "cell_type": "code",
   "execution_count": 122,
   "id": "cb09ebd4-414d-4135-93c0-3638b8ce4c5b",
   "metadata": {},
   "outputs": [],
   "source": [
    "local_pkgs = local_packages.groupby(['name                           '], as_index=False)['Vendor'].count()"
   ]
  },
  {
   "cell_type": "code",
   "execution_count": 123,
   "id": "fc6a11b8-1d4c-4cca-9152-293e38c72bc9",
   "metadata": {},
   "outputs": [
    {
     "data": {
      "text/html": [
       "<div>\n",
       "<style scoped>\n",
       "    .dataframe tbody tr th:only-of-type {\n",
       "        vertical-align: middle;\n",
       "    }\n",
       "\n",
       "    .dataframe tbody tr th {\n",
       "        vertical-align: top;\n",
       "    }\n",
       "\n",
       "    .dataframe thead th {\n",
       "        text-align: right;\n",
       "    }\n",
       "</style>\n",
       "<table border=\"1\" class=\"dataframe\">\n",
       "  <thead>\n",
       "    <tr style=\"text-align: right;\">\n",
       "      <th></th>\n",
       "      <th>name</th>\n",
       "      <th>Vendor</th>\n",
       "    </tr>\n",
       "  </thead>\n",
       "  <tbody>\n",
       "    <tr>\n",
       "      <th>2034</th>\n",
       "      <td>passwd</td>\n",
       "      <td>4</td>\n",
       "    </tr>\n",
       "    <tr>\n",
       "      <th>1632</th>\n",
       "      <td>man-db</td>\n",
       "      <td>4</td>\n",
       "    </tr>\n",
       "    <tr>\n",
       "      <th>2897</th>\n",
       "      <td>rsyslog</td>\n",
       "      <td>4</td>\n",
       "    </tr>\n",
       "    <tr>\n",
       "      <th>1996</th>\n",
       "      <td>openssl</td>\n",
       "      <td>4</td>\n",
       "    </tr>\n",
       "    <tr>\n",
       "      <th>2936</th>\n",
       "      <td>sed</td>\n",
       "      <td>4</td>\n",
       "    </tr>\n",
       "    <tr>\n",
       "      <th>...</th>\n",
       "      <td>...</td>\n",
       "      <td>...</td>\n",
       "    </tr>\n",
       "    <tr>\n",
       "      <th>1248</th>\n",
       "      <td>linux-oracle-tools-5.4.0-1043</td>\n",
       "      <td>1</td>\n",
       "    </tr>\n",
       "    <tr>\n",
       "      <th>1249</th>\n",
       "      <td>linux-riscv-5.8-headers-5.8.0-14</td>\n",
       "      <td>1</td>\n",
       "    </tr>\n",
       "    <tr>\n",
       "      <th>1250</th>\n",
       "      <td>linux-riscv-5.8-headers-5.8.0-16</td>\n",
       "      <td>1</td>\n",
       "    </tr>\n",
       "    <tr>\n",
       "      <th>1251</th>\n",
       "      <td>linux-riscv-5.8-headers-5.8.0-17</td>\n",
       "      <td>1</td>\n",
       "    </tr>\n",
       "    <tr>\n",
       "      <th>3425</th>\n",
       "      <td>zvmcloudconnector-common</td>\n",
       "      <td>1</td>\n",
       "    </tr>\n",
       "  </tbody>\n",
       "</table>\n",
       "<p>3426 rows × 2 columns</p>\n",
       "</div>"
      ],
      "text/plain": [
       "       name                             Vendor\n",
       "2034                            passwd       4\n",
       "1632                            man-db       4\n",
       "2897                           rsyslog       4\n",
       "1996                           openssl       4\n",
       "2936                               sed       4\n",
       "...                                ...     ...\n",
       "1248     linux-oracle-tools-5.4.0-1043       1\n",
       "1249  linux-riscv-5.8-headers-5.8.0-14       1\n",
       "1250  linux-riscv-5.8-headers-5.8.0-16       1\n",
       "1251  linux-riscv-5.8-headers-5.8.0-17       1\n",
       "3425          zvmcloudconnector-common       1\n",
       "\n",
       "[3426 rows x 2 columns]"
      ]
     },
     "execution_count": 123,
     "metadata": {},
     "output_type": "execute_result"
    }
   ],
   "source": [
    "local_pkgs.sort_values(['Vendor'], ascending=False)"
   ]
  },
  {
   "cell_type": "code",
   "execution_count": 124,
   "id": "fb005dbb-adf7-4b2b-9653-d2da817d4726",
   "metadata": {},
   "outputs": [
    {
     "data": {
      "text/plain": [
       "1    3028\n",
       "2     293\n",
       "3      79\n",
       "4      26\n",
       "Name: Vendor, dtype: int64"
      ]
     },
     "execution_count": 124,
     "metadata": {},
     "output_type": "execute_result"
    }
   ],
   "source": [
    "local_pkgs.Vendor.value_counts()"
   ]
  },
  {
   "cell_type": "code",
   "execution_count": 125,
   "id": "01175519-ca7b-415e-8901-ffa2a7d7a443",
   "metadata": {},
   "outputs": [
    {
     "data": {
      "text/plain": [
       "<AxesSubplot:xlabel='Vendor', ylabel='count'>"
      ]
     },
     "execution_count": 125,
     "metadata": {},
     "output_type": "execute_result"
    },
    {
     "data": {
      "image/png": "[encoded data removed]",
      "text/plain": [
       "<Figure size 432x288 with 1 Axes>"
      ]
     },
     "metadata": {},
     "output_type": "display_data"
    }
   ],
   "source": [
    "sns.countplot(x='Vendor', data=local_pkgs)"
   ]
  },
  {
   "cell_type": "markdown",
   "id": "52f3c6b0-ddbc-4c79-b332-b498983d83b9",
   "metadata": {},
   "source": [
    "## Security Advisories"
   ]
  },
  {
   "cell_type": "code",
   "execution_count": 5,
   "id": "25c7824f-0244-4c3a-94e6-1768f8e3e56e",
   "metadata": {},
   "outputs": [
    {
     "data": {
      "text/plain": [
       "(73476, 12)"
      ]
     },
     "execution_count": 5,
     "metadata": {},
     "output_type": "execute_result"
    }
   ],
   "source": [
    "data_adv.shape"
   ]
  },
  {
   "cell_type": "code",
   "execution_count": 5,
   "id": "c29f2bba-c9bf-4e6f-ac50-2698f00e5f96",
   "metadata": {},
   "outputs": [],
   "source": [
    "data_adv.replace(to_replace='None', value=np.nan, inplace=True)\n",
    "data = data_adv.dropna(subset=['vendor'], how='any')"
   ]
  },
  {
   "cell_type": "code",
   "execution_count": 7,
   "id": "c912f3d4-28b0-493c-b118-f321c2840d80",
   "metadata": {},
   "outputs": [
    {
     "data": {
      "text/plain": [
       "(4552, 12)"
      ]
     },
     "execution_count": 7,
     "metadata": {},
     "output_type": "execute_result"
    }
   ],
   "source": [
    "data.shape"
   ]
  },
  {
   "cell_type": "code",
   "execution_count": 34,
   "id": "ffb93cab-4a4e-41f9-a527-f02d84534bfa",
   "metadata": {},
   "outputs": [
    {
     "data": {
      "text/plain": [
       "<AxesSubplot:xlabel='vendor', ylabel='count'>"
      ]
     },
     "execution_count": 34,
     "metadata": {},
     "output_type": "execute_result"
    },
    {
     "data": {
      "image/png": "[encoded data removed]",
      "text/plain": [
       "<Figure size 576x288 with 1 Axes>"
      ]
     },
     "metadata": {},
     "output_type": "display_data"
    }
   ],
   "source": [
    "sns.set(rc = {'figure.figsize':(8,4)})\n",
    "sns.countplot(x='vendor', data=data)"
   ]
  },
  {
   "cell_type": "code",
   "execution_count": 6,
   "id": "f8a4a7c9-2c69-4d31-93b5-4e813b811c02",
   "metadata": {},
   "outputs": [
    {
     "data": {
      "text/plain": [
       "cisco        4061\n",
       "intel         248\n",
       "microsoft     116\n",
       "adobe          72\n",
       "oracle         55\n",
       "Name: vendor, dtype: int64"
      ]
     },
     "execution_count": 6,
     "metadata": {},
     "output_type": "execute_result"
    }
   ],
   "source": [
    "data.vendor.value_counts()"
   ]
  },
  {
   "cell_type": "code",
   "execution_count": 10,
   "id": "6c7fb5fc-7e4c-4863-9166-850b675e09df",
   "metadata": {},
   "outputs": [
    {
     "data": {
      "text/plain": [
       "(4552, 12)"
      ]
     },
     "execution_count": 10,
     "metadata": {},
     "output_type": "execute_result"
    }
   ],
   "source": [
    "data.shape"
   ]
  },
  {
   "cell_type": "code",
   "execution_count": 19,
   "id": "7d178e7e-1102-43fc-855d-7d96147f03ca",
   "metadata": {},
   "outputs": [
    {
     "data": {
      "image/png": "[encoded data removed]",
      "text/plain": [
       "<Figure size 288x288 with 1 Axes>"
      ]
     },
     "metadata": {},
     "output_type": "display_data"
    }
   ],
   "source": [
    "counts = [457, 10197]\n",
    "labels = ['Relevant', 'Irrlevant']\n",
    "plt.figure(figsize=(4,4))\n",
    "colors = sns.color_palette('pastel')[1:10]\n",
    "plt.pie(x=counts, labels=labels, colors=colors, autopct='%.0f%%')\n",
    "plt.show()"
   ]
  },
  {
   "cell_type": "code",
   "execution_count": null,
   "id": "1cc8692b-6634-440e-8f34-9c2817bac4b6",
   "metadata": {},
   "outputs": [],
   "source": []
  },
  {
   "cell_type": "markdown",
   "id": "8d07fccc-a289-401e-b216-fdd5b83b25fa",
   "metadata": {},
   "source": [
    "## Debian CVE analysis"
   ]
  },
  {
   "cell_type": "code",
   "execution_count": null,
   "id": "5cce82d2-3a6b-4c5b-acbb-c2555a3e4a3f",
   "metadata": {},
   "outputs": [],
   "source": [
    "counts = [4480, 72]\n",
    "labels = ['Inconsistent', 'Consistent']\n",
    "plt.figure(figsize=(5,5))\n",
    "colors = sns.color_palette('pastel')[1:10]\n",
    "plt.pie(x=counts, labels=labels, colors=colors, autopct='%.0f%%')\n",
    "plt.show()"
   ]
  }
 ],
 "metadata": {
  "kernelspec": {
   "display_name": "Python 3",
   "language": "python",
   "name": "python3"
  },
  "language_info": {
   "codemirror_mode": {
    "name": "ipython",
    "version": 3
   },
   "file_extension": ".py",
   "mimetype": "text/x-python",
   "name": "python",
   "nbconvert_exporter": "python",
   "pygments_lexer": "ipython3",
   "version": "3.9.2"
  }
 },
 "nbformat": 4,
 "nbformat_minor": 5
}
